{
 "cells": [
  {
   "cell_type": "code",
   "execution_count": 1,
   "metadata": {},
   "outputs": [],
   "source": [
    "import os\n",
    "import shutil\n",
    "import pytesseract\n",
    "from PIL import Image\n",
    "\n",
    "# Update the Tesseract path if needed\n",
    "pytesseract.pytesseract.tesseract_cmd = r'C:/Program Files/Tesseract-OCR/tesseract.exe'\n",
    "\n",
    "def filter_images_with_text(source_directory, destination_base_directory, images_per_set=1000, total_images_needed=4000):\n",
    "    # Ensure destination base directory exists, if not create it\n",
    "    if not os.path.exists(destination_base_directory):\n",
    "        os.makedirs(destination_base_directory)\n",
    "    \n",
    "    # Create subdirectories to store images\n",
    "    num_sets = total_images_needed // images_per_set\n",
    "    destination_directories = [os.path.join(destination_base_directory, f'set_{i+1}') for i in range(num_sets)]\n",
    "    for dest_dir in destination_directories:\n",
    "        if not os.path.exists(dest_dir):\n",
    "            os.makedirs(dest_dir)\n",
    "    \n",
    "    # Get a list of files in the directory\n",
    "    files = [f for f in os.listdir(source_directory) if os.path.isfile(os.path.join(source_directory, f))]\n",
    "    \n",
    "    count = 0\n",
    "    set_index = 0\n",
    "    \n",
    "    for file in files:\n",
    "        if count >= total_images_needed:\n",
    "            break\n",
    "\n",
    "        file_path = os.path.join(source_directory, file)\n",
    "        try:\n",
    "            img = Image.open(file_path)\n",
    "            text = pytesseract.image_to_string(img)\n",
    "            if not text.strip():  # If no text found, move the image\n",
    "                destination_path = os.path.join(destination_directories[set_index], file)\n",
    "                shutil.copy(file_path, destination_path)\n",
    "                count += 1\n",
    "                \n",
    "                # Switch to the next set if this set is full\n",
    "                if count % images_per_set == 0:\n",
    "                    set_index += 1\n",
    "\n",
    "        except Exception as e:\n",
    "            print(f\"Error processing {file_path}: {e}\")\n",
    "\n",
    "# Set the path to the directories\n",
    "source_directory_path = r\"C:/Users/meena/Downloads/LLD-logo_files (1)/LLD-logo-files\"\n",
    "destination_directory_path = r\"C:/Users/meena/Downloads/cleaned_LLD_dataset\"\n",
    "\n",
    "# Filter out images with text\n",
    "filter_images_with_text(source_directory_path, destination_directory_path)"
   ]
  },
  {
   "cell_type": "code",
   "execution_count": null,
   "metadata": {},
   "outputs": [],
   "source": []
  }
 ],
 "metadata": {
  "kernelspec": {
   "display_name": "Python 3",
   "language": "python",
   "name": "python3"
  },
  "language_info": {
   "codemirror_mode": {
    "name": "ipython",
    "version": 3
   },
   "file_extension": ".py",
   "mimetype": "text/x-python",
   "name": "python",
   "nbconvert_exporter": "python",
   "pygments_lexer": "ipython3",
   "version": "3.10.9"
  }
 },
 "nbformat": 4,
 "nbformat_minor": 2
}
