{
 "cells": [
  {
   "cell_type": "code",
   "execution_count": 4,
   "metadata": {},
   "outputs": [],
   "source": [
    "import cv2\n",
    "import os\n",
    "import shutil\n",
    "import pytesseract\n",
    "\n",
    "source_dir = r\"C:/Users/meena/Downloads/LLD-logo_sample\"\n",
    "destination_dir = r\"C:/Users/meena/Downloads/cleaned_LLD_dataset_opencv\"\n",
    "\n",
    "def contains_text_opencv(image_path):\n",
    "    image = cv2.imread(image_path)\n",
    "    if image is None:  # Check if the image was loaded correctly\n",
    "        print(f\"Warning: Could not load image {image_path}\")\n",
    "        return True  # Skip processing if image can't be loaded\n",
    "    gray = cv2.cvtColor(image, cv2.COLOR_BGR2GRAY)\n",
    "    _, thresh = cv2.threshold(gray, 150, 255, cv2.THRESH_BINARY_INV)\n",
    "    text = pytesseract.image_to_string(thresh)\n",
    "    return len(text) > 0\n",
    "\n",
    "# Ensure the destination directory exists\n",
    "if not os.path.exists(destination_dir):\n",
    "    os.makedirs(destination_dir)\n",
    "\n",
    "for filename in os.listdir(source_dir):\n",
    "    if filename.lower().endswith((\".png\", \".jpg\", \".jpeg\")):  # Process only specific file types\n",
    "        image_path = os.path.join(source_dir, filename)\n",
    "        if not contains_text_opencv(image_path):\n",
    "            shutil.copy(image_path, os.path.join(destination_dir, filename))"
   ]
  },
  {
   "cell_type": "code",
   "execution_count": 5,
   "metadata": {},
   "outputs": [],
   "source": [
    "import os\n",
    "\n",
    "_, _, files = next(os.walk(\"C:/Users/meena/Downloads/cleaned_LLD_dataset_opencv\"))\n",
    "file_count = len(files)"
   ]
  },
  {
   "cell_type": "code",
   "execution_count": 6,
   "metadata": {},
   "outputs": [
    {
     "data": {
      "text/plain": [
       "277"
      ]
     },
     "execution_count": 6,
     "metadata": {},
     "output_type": "execute_result"
    }
   ],
   "source": [
    "file_count"
   ]
  }
 ],
 "metadata": {
  "kernelspec": {
   "display_name": "Python 3",
   "language": "python",
   "name": "python3"
  },
  "language_info": {
   "codemirror_mode": {
    "name": "ipython",
    "version": 3
   },
   "file_extension": ".py",
   "mimetype": "text/x-python",
   "name": "python",
   "nbconvert_exporter": "python",
   "pygments_lexer": "ipython3",
   "version": "3.10.9"
  }
 },
 "nbformat": 4,
 "nbformat_minor": 2
}
